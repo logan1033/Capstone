{
 "cells": [
  {
   "cell_type": "markdown",
   "metadata": {},
   "source": [
    "The Section Below builds the basis for the program. It imports the necessary Python libraries and them reads the CSV file to populate a DataFrame."
   ]
  },
  {
   "cell_type": "code",
   "execution_count": 1,
   "metadata": {},
   "outputs": [
    {
     "data": {
      "text/html": [
       "<div>\n",
       "<style scoped>\n",
       "    .dataframe tbody tr th:only-of-type {\n",
       "        vertical-align: middle;\n",
       "    }\n",
       "\n",
       "    .dataframe tbody tr th {\n",
       "        vertical-align: top;\n",
       "    }\n",
       "\n",
       "    .dataframe thead th {\n",
       "        text-align: right;\n",
       "    }\n",
       "</style>\n",
       "<table border=\"1\" class=\"dataframe\">\n",
       "  <thead>\n",
       "    <tr style=\"text-align: right;\">\n",
       "      <th></th>\n",
       "      <th>step</th>\n",
       "      <th>type</th>\n",
       "      <th>amount</th>\n",
       "      <th>nameOrig</th>\n",
       "      <th>oldbalanceOrg</th>\n",
       "      <th>newbalanceOrig</th>\n",
       "      <th>nameDest</th>\n",
       "      <th>oldbalanceDest</th>\n",
       "      <th>newbalanceDest</th>\n",
       "      <th>isFraud</th>\n",
       "      <th>isFlaggedFraud</th>\n",
       "    </tr>\n",
       "  </thead>\n",
       "  <tbody>\n",
       "    <tr>\n",
       "      <th>0</th>\n",
       "      <td>1</td>\n",
       "      <td>PAYMENT</td>\n",
       "      <td>9839.64</td>\n",
       "      <td>C1231006815</td>\n",
       "      <td>170136.0</td>\n",
       "      <td>160296.36</td>\n",
       "      <td>M1979787155</td>\n",
       "      <td>0.0</td>\n",
       "      <td>0.0</td>\n",
       "      <td>0</td>\n",
       "      <td>0</td>\n",
       "    </tr>\n",
       "    <tr>\n",
       "      <th>1</th>\n",
       "      <td>1</td>\n",
       "      <td>PAYMENT</td>\n",
       "      <td>1864.28</td>\n",
       "      <td>C1666544295</td>\n",
       "      <td>21249.0</td>\n",
       "      <td>19384.72</td>\n",
       "      <td>M2044282225</td>\n",
       "      <td>0.0</td>\n",
       "      <td>0.0</td>\n",
       "      <td>0</td>\n",
       "      <td>0</td>\n",
       "    </tr>\n",
       "    <tr>\n",
       "      <th>2</th>\n",
       "      <td>1</td>\n",
       "      <td>TRANSFER</td>\n",
       "      <td>181.00</td>\n",
       "      <td>C1305486145</td>\n",
       "      <td>181.0</td>\n",
       "      <td>0.00</td>\n",
       "      <td>C553264065</td>\n",
       "      <td>0.0</td>\n",
       "      <td>0.0</td>\n",
       "      <td>1</td>\n",
       "      <td>0</td>\n",
       "    </tr>\n",
       "    <tr>\n",
       "      <th>3</th>\n",
       "      <td>1</td>\n",
       "      <td>CASH_OUT</td>\n",
       "      <td>181.00</td>\n",
       "      <td>C840083671</td>\n",
       "      <td>181.0</td>\n",
       "      <td>0.00</td>\n",
       "      <td>C38997010</td>\n",
       "      <td>21182.0</td>\n",
       "      <td>0.0</td>\n",
       "      <td>1</td>\n",
       "      <td>0</td>\n",
       "    </tr>\n",
       "    <tr>\n",
       "      <th>4</th>\n",
       "      <td>1</td>\n",
       "      <td>PAYMENT</td>\n",
       "      <td>11668.14</td>\n",
       "      <td>C2048537720</td>\n",
       "      <td>41554.0</td>\n",
       "      <td>29885.86</td>\n",
       "      <td>M1230701703</td>\n",
       "      <td>0.0</td>\n",
       "      <td>0.0</td>\n",
       "      <td>0</td>\n",
       "      <td>0</td>\n",
       "    </tr>\n",
       "  </tbody>\n",
       "</table>\n",
       "</div>"
      ],
      "text/plain": [
       "   step      type    amount     nameOrig  oldbalanceOrg  newbalanceOrig  \\\n",
       "0     1   PAYMENT   9839.64  C1231006815       170136.0       160296.36   \n",
       "1     1   PAYMENT   1864.28  C1666544295        21249.0        19384.72   \n",
       "2     1  TRANSFER    181.00  C1305486145          181.0            0.00   \n",
       "3     1  CASH_OUT    181.00   C840083671          181.0            0.00   \n",
       "4     1   PAYMENT  11668.14  C2048537720        41554.0        29885.86   \n",
       "\n",
       "      nameDest  oldbalanceDest  newbalanceDest  isFraud  isFlaggedFraud  \n",
       "0  M1979787155             0.0             0.0        0               0  \n",
       "1  M2044282225             0.0             0.0        0               0  \n",
       "2   C553264065             0.0             0.0        1               0  \n",
       "3    C38997010         21182.0             0.0        1               0  \n",
       "4  M1230701703             0.0             0.0        0               0  "
      ]
     },
     "execution_count": 1,
     "metadata": {},
     "output_type": "execute_result"
    }
   ],
   "source": [
    "import pandas as pd\n",
    "import matplotlib.pyplot as plt\n",
    "import seaborn as sns\n",
    "from sklearn.preprocessing import LabelEncoder\n",
    "from sklearn.model_selection import train_test_split\n",
    "from sklearn import metrics\n",
    "from sklearn.ensemble import RandomForestClassifier\n",
    "from sklearn.metrics import ConfusionMatrixDisplay\n",
    "\n",
    "# This dataset is originally over 6 million transactions. \n",
    "# This is a split subset of 500,000, for smaller file size.\n",
    "df = pd.read_csv('transactions.csv', nrows=100000)\n",
    "df.head()"
   ]
  },
  {
   "cell_type": "markdown",
   "metadata": {},
   "source": [
    "The Section Below contains two charts. \n",
    "\n",
    "The first chart shows that fraudulent transactions are only of a specific 'type', either TRANSFER or CASH OUT.\n",
    "\n",
    "The second pie charts shows the percentages of each 'type' of transactions.\n",
    "\n",
    "Transfers and Cash Outs account for only a small percentage of all transactions with fraud representing only a tiny fraction of that. This either/or choice was the first step on my decision to choose Descision Trees/Random Forests as my model's classifier."
   ]
  },
  {
   "cell_type": "code",
   "execution_count": 2,
   "metadata": {},
   "outputs": [
    {
     "name": "stdout",
     "output_type": "stream",
     "text": [
      "\n"
     ]
    },
    {
     "data": {
      "image/png": "[encoded data removed]",
      "text/plain": [
       "<Figure size 720x360 with 2 Axes>"
      ]
     },
     "metadata": {
      "needs_background": "light"
     },
     "output_type": "display_data"
    }
   ],
   "source": [
    "# Charts\n",
    "fig, axs = plt.subplots(ncols=2, figsize=(10,5))\n",
    "\n",
    "sns.stripplot(x=\"type\", y=\"isFraud\", data=df, ax=axs[0])\n",
    "plt.pie(df['type'].value_counts(), startangle=90, autopct='%.2f',labels=['PAYMENT', 'TRANSFER', 'CASH OUT', 'DEBIT', 'CASH IN'], shadow=True)\n",
    "print()"
   ]
  },
  {
   "cell_type": "markdown",
   "metadata": {},
   "source": [
    "The Section Below highlights a large correlation between the Old and New Balances of the original account and being flagged as Fraud .\n",
    "\n",
    "It seems poeple commiting fraud tend to drain accounts they get access too. "
   ]
  },
  {
   "cell_type": "code",
   "execution_count": 3,
   "metadata": {},
   "outputs": [
    {
     "data": {
      "text/html": [
       "<div>\n",
       "<style scoped>\n",
       "    .dataframe tbody tr th:only-of-type {\n",
       "        vertical-align: middle;\n",
       "    }\n",
       "\n",
       "    .dataframe tbody tr th {\n",
       "        vertical-align: top;\n",
       "    }\n",
       "\n",
       "    .dataframe thead th {\n",
       "        text-align: right;\n",
       "    }\n",
       "</style>\n",
       "<table border=\"1\" class=\"dataframe\">\n",
       "  <thead>\n",
       "    <tr style=\"text-align: right;\">\n",
       "      <th></th>\n",
       "      <th>newbalanceOrig</th>\n",
       "    </tr>\n",
       "  </thead>\n",
       "  <tbody>\n",
       "    <tr>\n",
       "      <th>step</th>\n",
       "      <td>0.003846</td>\n",
       "    </tr>\n",
       "    <tr>\n",
       "      <th>amount</th>\n",
       "      <td>0.017804</td>\n",
       "    </tr>\n",
       "    <tr>\n",
       "      <th>oldbalanceOrg</th>\n",
       "      <td>0.998846</td>\n",
       "    </tr>\n",
       "    <tr>\n",
       "      <th>newbalanceOrig</th>\n",
       "      <td>1.000000</td>\n",
       "    </tr>\n",
       "    <tr>\n",
       "      <th>oldbalanceDest</th>\n",
       "      <td>0.107784</td>\n",
       "    </tr>\n",
       "    <tr>\n",
       "      <th>newbalanceDest</th>\n",
       "      <td>0.073759</td>\n",
       "    </tr>\n",
       "    <tr>\n",
       "      <th>isFraud</th>\n",
       "      <td>0.010872</td>\n",
       "    </tr>\n",
       "    <tr>\n",
       "      <th>isFlaggedFraud</th>\n",
       "      <td>NaN</td>\n",
       "    </tr>\n",
       "  </tbody>\n",
       "</table>\n",
       "</div>"
      ],
      "text/plain": [
       "                newbalanceOrig\n",
       "step                  0.003846\n",
       "amount                0.017804\n",
       "oldbalanceOrg         0.998846\n",
       "newbalanceOrig        1.000000\n",
       "oldbalanceDest        0.107784\n",
       "newbalanceDest        0.073759\n",
       "isFraud               0.010872\n",
       "isFlaggedFraud             NaN"
      ]
     },
     "execution_count": 3,
     "metadata": {},
     "output_type": "execute_result"
    }
   ],
   "source": [
    "# Correlation with given value\n",
    "df.corr().abs()[[\"newbalanceOrig\"]]"
   ]
  },
  {
   "cell_type": "markdown",
   "metadata": {},
   "source": [
    "The Section Below covers my data modification and clean-up.\n",
    "LabelEncoder() was needed for the 'type' String conversion to a float.\n",
    "The dropped columns are the result of experimentation.\n",
    "I would keep or remove columns and train the model with the same dataset. \n",
    "Removing more the destination account info kept the same accuracy_score but the recall (and F1) score dropped by almost 20%."
   ]
  },
  {
   "cell_type": "code",
   "execution_count": 4,
   "metadata": {},
   "outputs": [
    {
     "data": {
      "image/png": "[encoded data removed]",
      "text/plain": [
       "<Figure size 432x288 with 9 Axes>"
      ]
     },
     "metadata": {
      "needs_background": "light"
     },
     "output_type": "display_data"
    }
   ],
   "source": [
    "#Transformation and Data Modification\n",
    "\n",
    "# Transforms Transaction 'type' string into float\n",
    "le = LabelEncoder()\n",
    "df.type = le.fit_transform(df.type)\n",
    "\n",
    "# Name and Step columns would be too far down the decision tree. \n",
    "# The 'isFlaggedFraud' column is all 0s.\n",
    "\n",
    "df.drop(\"nameOrig\", axis=1, inplace=True)\n",
    "df.drop(\"nameDest\", axis=1, inplace=True)\n",
    "df.drop(\"isFlaggedFraud\", axis=1, inplace=True)\n",
    "df.drop(\"step\", axis=1, inplace=True)\n",
    "\n",
    "# Graph of data after dropped columns.\n",
    "df.hist()\n",
    "plt.show()"
   ]
  },
  {
   "cell_type": "markdown",
   "metadata": {},
   "source": [
    "The Section Below seperates the data into training and testing parts."
   ]
  },
  {
   "cell_type": "code",
   "execution_count": 5,
   "metadata": {},
   "outputs": [],
   "source": [
    "# Separating the target variable\n",
    "X = df.values[:, :6]\n",
    "y = df.values[:, 6]\n",
    "  \n",
    "# Splitting the dataset into train and test\n",
    "X_train, X_test, y_train, y_test = train_test_split(X, y, test_size = 0.3, random_state = 100)"
   ]
  },
  {
   "cell_type": "markdown",
   "metadata": {},
   "source": [
    "The Section Below covers the creation of my model, its training, and scoring.\n",
    "\n",
    "With the sample I used, I achieved a 99.92% accuracy score using sklearn.metrics.accuracy_score().\n",
    "\n",
    "The other statistics show areas for improvement.\n",
    "-Precision is acceptable but can be improved\n",
    "-Recall is quite bad. Further refinement should be able to improve this.\n",
    "\n",
    "Given the above:\n",
    "    -The overall F1 Score of 0.56 is not good. Owing most of the problem to 'Recall'.\n",
    "\n",
    "The Confusion Matrix simply gives the overall stats of precision and recall in a comparative fashion."
   ]
  },
  {
   "cell_type": "code",
   "execution_count": 6,
   "metadata": {},
   "outputs": [
    {
     "name": "stdout",
     "output_type": "stream",
     "text": [
      "Accuracy score:  0.9992333333333333\n",
      "Precision Score:  0.8235294117647058\n",
      "Recall Score:  0.4117647058823529\n",
      "F1 Score:  0.5490196078431372\n"
     ]
    },
    {
     "data": {
      "image/png": "[encoded data removed]",
      "text/plain": [
       "<Figure size 432x288 with 2 Axes>"
      ]
     },
     "metadata": {
      "needs_background": "light"
     },
     "output_type": "display_data"
    }
   ],
   "source": [
    "# My Model\n",
    "my_RF_model = RandomForestClassifier() \n",
    "\n",
    "# Training Section\n",
    "my_RF_model.fit(X_train, y_train)\n",
    "\n",
    "# Testing Section\n",
    "y_pred_RF = my_RF_model.predict(X_test)\n",
    "print(\"Accuracy score: \", metrics.accuracy_score(y_test, y_pred_RF))\n",
    "print(\"Precision Score: \", metrics.precision_score(y_test, y_pred_RF))\n",
    "print(\"Recall Score: \", metrics.recall_score(y_test, y_pred_RF))\n",
    "print(\"F1 Score: \", metrics.f1_score(y_test, y_pred_RF))\n",
    "\n",
    "cm = metrics.confusion_matrix(y_test, y_pred_RF)\n",
    "disp = ConfusionMatrixDisplay(confusion_matrix=cm)\n",
    "disp.plot()\n",
    "plt.show()"
   ]
  },
  {
   "cell_type": "markdown",
   "metadata": {},
   "source": [
    "The Section Below creates a function to take the needed arguments and return my model's prediction."
   ]
  },
  {
   "cell_type": "code",
   "execution_count": 7,
   "metadata": {},
   "outputs": [],
   "source": [
    "def predict_with_model(t_type, t_amount, t_OBO, t_NBO, t_OBD, t_NBD):\n",
    "    # Cast all as float just to be sure.\n",
    "    test_transaction = [float(t_type), float(t_amount), float(t_OBO), float(t_NBO), float(t_OBD), float(t_NBD)]\n",
    "    result = int(my_RF_model.predict([test_transaction]))\n",
    "    if result==0:\n",
    "        return False\n",
    "    elif result==1:\n",
    "        return True\n",
    "    else:\n",
    "        print(\"Check the values entered.\")"
   ]
  },
  {
   "cell_type": "markdown",
   "metadata": {},
   "source": [
    "The Section Below prints a simple user experience to take in the needed variables and returns a prediction based on what was entered."
   ]
  },
  {
   "cell_type": "code",
   "execution_count": 8,
   "metadata": {},
   "outputs": [
    {
     "name": "stdout",
     "output_type": "stream",
     "text": [
      "This model takes 6 variables as inputs.\n",
      "All Values need to be numerical.\n",
      "The first Value is a special case:\n",
      "(1 = CASH_OUT)\n",
      "(2 = DEBIT)\n",
      "(3 = PAYMENT)\n",
      "(4 = TRANSFER)\n",
      "(5 = CASH_IN)\n",
      "Transaction Type is: 1\n",
      "Transaction Amount is: 1\n",
      "Original Account Balance Before Transaction is: 1\n",
      "Original Account Balance After Transaction is: 1\n",
      "Destination Account Balance Before Transaction is: 1\n",
      "Destination Account Balance After Transaction is: 1\n",
      "\n",
      "\n",
      "My Model Predicts this is NOT Fraud.\n"
     ]
    }
   ],
   "source": [
    "print(\"This model takes 6 variables as inputs.\")\n",
    "print(\"All Values need to be numerical.\")\n",
    "print(\"The first Value is a special case:\")\n",
    "print(\"(1 = CASH_OUT)\")\n",
    "print(\"(2 = DEBIT)\")\n",
    "print(\"(3 = PAYMENT)\")\n",
    "print(\"(4 = TRANSFER)\")\n",
    "print(\"(5 = CASH_IN)\")\n",
    "\n",
    "\n",
    "a = input(\"Enter the Transaction Type: \")\n",
    "print(\"Transaction Type is:\",a)\n",
    "b = input(\"Enter the Transaction Amount: \")\n",
    "print(\"Transaction Amount is:\",b)\n",
    "c = input(\"Enter the Original Account Balance Before Transaction: \")\n",
    "print(\"Original Account Balance Before Transaction is:\",c)\n",
    "d = input(\"Enter the Original Account Balance After Transaction: \")\n",
    "print(\"Original Account Balance After Transaction is:\",d)\n",
    "e = input(\"Enter the Destination Account Balance Before Transaction: \")\n",
    "print(\"Destination Account Balance Before Transaction is:\",e)\n",
    "f = input(\"Enter the Destination Account Balance After Transaction: \")\n",
    "print(\"Destination Account Balance After Transaction is:\",f)\n",
    "\n",
    "result = predict_with_model(a,b,c,d,e,f)\n",
    "if result:\n",
    "    print(\"\\n\\nMy Model Predicts this is Fraud!\")\n",
    "else:\n",
    "    print(\"\\n\\nMy Model Predicts this is NOT Fraud.\")"
   ]
  }
 ],
 "metadata": {
  "interpreter": {
   "hash": "9d6144efefa755d1a6f9079aff989e4e8b6496d9c0eed22ec4cb2f226bf88ff8"
  },
  "kernelspec": {
   "display_name": "Python 3.10.4 64-bit",
   "language": "python",
   "name": "python3"
  },
  "language_info": {
   "codemirror_mode": {
    "name": "ipython",
    "version": 3
   },
   "file_extension": ".py",
   "mimetype": "text/x-python",
   "name": "python",
   "nbconvert_exporter": "python",
   "pygments_lexer": "ipython3",
   "version": "3.10.4"
  },
  "orig_nbformat": 4
 },
 "nbformat": 4,
 "nbformat_minor": 2
}
